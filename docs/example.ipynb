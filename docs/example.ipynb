{
 "cells": [
  {
   "cell_type": "markdown",
   "metadata": {},
   "source": [
    "# Example usage\n",
    "\n",
    "Here we will demonstrate how to use the `stepsel` package for stepwise selection of variables in a regression model and how to prepare categorical data for such a model."
   ]
  },
  {
   "cell_type": "code",
   "execution_count": 1,
   "metadata": {},
   "outputs": [],
   "source": [
    "# Importing the packages\n",
    "import stepsel\n",
    "import numpy as np\n",
    "import statsmodels.api as sm"
   ]
  },
  {
   "cell_type": "markdown",
   "metadata": {},
   "source": [
    "## Load the data\n",
    "First we load the data and take a look at the first few rows. It is soccer data from Czech First League."
   ]
  },
  {
   "cell_type": "code",
   "execution_count": 2,
   "metadata": {},
   "outputs": [
    {
     "name": "stdout",
     "output_type": "stream",
     "text": [
      "(518, 24) Index(['match_id', 'match_datetime', 'team', 'hga', 'team_opp', 'goals',\n",
      "       'goals_opp', 'yellow', 'yellow_opp', 'red', 'red_opp', 'penalty',\n",
      "       'penalty_opp', 'fouls', 'fouls_opp', 'attacks', 'attacks_opp',\n",
      "       'dangerous_attacks', 'dangerous_attacks_opp', 'ref_interv',\n",
      "       'ref_interv_opp', 'ref_interv_per_attack', 'ref_interv_per_attack_opp',\n",
      "       'ref_interv_per_attack_diff'],\n",
      "      dtype='object')\n"
     ]
    }
   ],
   "source": [
    "dt = stepsel.datasets.load_soccer_data()\n",
    "print(dt.shape, dt.columns)"
   ]
  },
  {
   "cell_type": "code",
   "execution_count": 3,
   "metadata": {},
   "outputs": [
    {
     "data": {
      "text/html": [
       "<div>\n",
       "<style scoped>\n",
       "    .dataframe tbody tr th:only-of-type {\n",
       "        vertical-align: middle;\n",
       "    }\n",
       "\n",
       "    .dataframe tbody tr th {\n",
       "        vertical-align: top;\n",
       "    }\n",
       "\n",
       "    .dataframe thead th {\n",
       "        text-align: right;\n",
       "    }\n",
       "</style>\n",
       "<table border=\"1\" class=\"dataframe\">\n",
       "  <thead>\n",
       "    <tr style=\"text-align: right;\">\n",
       "      <th></th>\n",
       "      <th>match_id</th>\n",
       "      <th>match_datetime</th>\n",
       "      <th>team</th>\n",
       "      <th>hga</th>\n",
       "      <th>team_opp</th>\n",
       "      <th>goals</th>\n",
       "      <th>goals_opp</th>\n",
       "      <th>yellow</th>\n",
       "      <th>yellow_opp</th>\n",
       "      <th>red</th>\n",
       "      <th>...</th>\n",
       "      <th>fouls_opp</th>\n",
       "      <th>attacks</th>\n",
       "      <th>attacks_opp</th>\n",
       "      <th>dangerous_attacks</th>\n",
       "      <th>dangerous_attacks_opp</th>\n",
       "      <th>ref_interv</th>\n",
       "      <th>ref_interv_opp</th>\n",
       "      <th>ref_interv_per_attack</th>\n",
       "      <th>ref_interv_per_attack_opp</th>\n",
       "      <th>ref_interv_per_attack_diff</th>\n",
       "    </tr>\n",
       "  </thead>\n",
       "  <tbody>\n",
       "    <tr>\n",
       "      <th>0</th>\n",
       "      <td>1</td>\n",
       "      <td>2023-05-14 18:00:00</td>\n",
       "      <td>Bohemians</td>\n",
       "      <td>H</td>\n",
       "      <td>Slovácko</td>\n",
       "      <td>0.0</td>\n",
       "      <td>0.0</td>\n",
       "      <td>2</td>\n",
       "      <td>2</td>\n",
       "      <td>0</td>\n",
       "      <td>...</td>\n",
       "      <td>12.0</td>\n",
       "      <td>117.0</td>\n",
       "      <td>142.0</td>\n",
       "      <td>71.0</td>\n",
       "      <td>88.0</td>\n",
       "      <td>20.0</td>\n",
       "      <td>18.0</td>\n",
       "      <td>0.140845</td>\n",
       "      <td>0.153846</td>\n",
       "      <td>-0.013001</td>\n",
       "    </tr>\n",
       "    <tr>\n",
       "      <th>1</th>\n",
       "      <td>2</td>\n",
       "      <td>2023-05-14 15:00:00</td>\n",
       "      <td>Jablonec</td>\n",
       "      <td>H</td>\n",
       "      <td>Baník Ostrava</td>\n",
       "      <td>1.0</td>\n",
       "      <td>1.0</td>\n",
       "      <td>1</td>\n",
       "      <td>1</td>\n",
       "      <td>0</td>\n",
       "      <td>...</td>\n",
       "      <td>11.0</td>\n",
       "      <td>90.0</td>\n",
       "      <td>116.0</td>\n",
       "      <td>74.0</td>\n",
       "      <td>58.0</td>\n",
       "      <td>14.0</td>\n",
       "      <td>22.0</td>\n",
       "      <td>0.120690</td>\n",
       "      <td>0.244444</td>\n",
       "      <td>-0.123755</td>\n",
       "    </tr>\n",
       "    <tr>\n",
       "      <th>2</th>\n",
       "      <td>3</td>\n",
       "      <td>2023-05-14 15:00:00</td>\n",
       "      <td>Teplice</td>\n",
       "      <td>H</td>\n",
       "      <td>Zlín</td>\n",
       "      <td>2.0</td>\n",
       "      <td>1.0</td>\n",
       "      <td>4</td>\n",
       "      <td>4</td>\n",
       "      <td>0</td>\n",
       "      <td>...</td>\n",
       "      <td>14.0</td>\n",
       "      <td>118.0</td>\n",
       "      <td>134.0</td>\n",
       "      <td>54.0</td>\n",
       "      <td>62.0</td>\n",
       "      <td>30.0</td>\n",
       "      <td>26.0</td>\n",
       "      <td>0.223881</td>\n",
       "      <td>0.220339</td>\n",
       "      <td>0.003542</td>\n",
       "    </tr>\n",
       "    <tr>\n",
       "      <th>3</th>\n",
       "      <td>4</td>\n",
       "      <td>2023-05-14 15:00:00</td>\n",
       "      <td>Zbrojovka Brno</td>\n",
       "      <td>H</td>\n",
       "      <td>Pardubice</td>\n",
       "      <td>0.0</td>\n",
       "      <td>2.0</td>\n",
       "      <td>1</td>\n",
       "      <td>2</td>\n",
       "      <td>0</td>\n",
       "      <td>...</td>\n",
       "      <td>14.0</td>\n",
       "      <td>99.0</td>\n",
       "      <td>126.0</td>\n",
       "      <td>57.0</td>\n",
       "      <td>76.0</td>\n",
       "      <td>17.0</td>\n",
       "      <td>36.0</td>\n",
       "      <td>0.134921</td>\n",
       "      <td>0.363636</td>\n",
       "      <td>-0.228716</td>\n",
       "    </tr>\n",
       "    <tr>\n",
       "      <th>4</th>\n",
       "      <td>5</td>\n",
       "      <td>2023-05-13 18:00:00</td>\n",
       "      <td>Sparta Praha</td>\n",
       "      <td>H</td>\n",
       "      <td>Slavia Praha</td>\n",
       "      <td>3.0</td>\n",
       "      <td>2.0</td>\n",
       "      <td>1</td>\n",
       "      <td>2</td>\n",
       "      <td>0</td>\n",
       "      <td>...</td>\n",
       "      <td>15.0</td>\n",
       "      <td>87.0</td>\n",
       "      <td>145.0</td>\n",
       "      <td>47.0</td>\n",
       "      <td>94.0</td>\n",
       "      <td>15.0</td>\n",
       "      <td>29.0</td>\n",
       "      <td>0.103448</td>\n",
       "      <td>0.333333</td>\n",
       "      <td>-0.229885</td>\n",
       "    </tr>\n",
       "  </tbody>\n",
       "</table>\n",
       "<p>5 rows × 24 columns</p>\n",
       "</div>"
      ],
      "text/plain": [
       "   match_id      match_datetime            team hga       team_opp  goals  \\\n",
       "0         1 2023-05-14 18:00:00       Bohemians   H       Slovácko    0.0   \n",
       "1         2 2023-05-14 15:00:00        Jablonec   H  Baník Ostrava    1.0   \n",
       "2         3 2023-05-14 15:00:00         Teplice   H           Zlín    2.0   \n",
       "3         4 2023-05-14 15:00:00  Zbrojovka Brno   H      Pardubice    0.0   \n",
       "4         5 2023-05-13 18:00:00    Sparta Praha   H   Slavia Praha    3.0   \n",
       "\n",
       "   goals_opp  yellow  yellow_opp  red  ...  fouls_opp  attacks  attacks_opp  \\\n",
       "0        0.0       2           2    0  ...       12.0    117.0        142.0   \n",
       "1        1.0       1           1    0  ...       11.0     90.0        116.0   \n",
       "2        1.0       4           4    0  ...       14.0    118.0        134.0   \n",
       "3        2.0       1           2    0  ...       14.0     99.0        126.0   \n",
       "4        2.0       1           2    0  ...       15.0     87.0        145.0   \n",
       "\n",
       "   dangerous_attacks  dangerous_attacks_opp  ref_interv  ref_interv_opp  \\\n",
       "0               71.0                   88.0        20.0            18.0   \n",
       "1               74.0                   58.0        14.0            22.0   \n",
       "2               54.0                   62.0        30.0            26.0   \n",
       "3               57.0                   76.0        17.0            36.0   \n",
       "4               47.0                   94.0        15.0            29.0   \n",
       "\n",
       "   ref_interv_per_attack  ref_interv_per_attack_opp  \\\n",
       "0               0.140845                   0.153846   \n",
       "1               0.120690                   0.244444   \n",
       "2               0.223881                   0.220339   \n",
       "3               0.134921                   0.363636   \n",
       "4               0.103448                   0.333333   \n",
       "\n",
       "   ref_interv_per_attack_diff  \n",
       "0                   -0.013001  \n",
       "1                   -0.123755  \n",
       "2                    0.003542  \n",
       "3                   -0.228716  \n",
       "4                   -0.229885  \n",
       "\n",
       "[5 rows x 24 columns]"
      ]
     },
     "execution_count": 3,
     "metadata": {},
     "output_type": "execute_result"
    }
   ],
   "source": [
    "dt.head()"
   ]
  },
  {
   "cell_type": "markdown",
   "metadata": {},
   "source": [
    "## Binning the data\n",
    "There are two ways to bin data in `stepsel` package: by specifying the cut points or optimal binning. We will demonstrate both."
   ]
  },
  {
   "cell_type": "markdown",
   "metadata": {},
   "source": [
    "### By specifying the cut points"
   ]
  },
  {
   "cell_type": "code",
   "execution_count": 4,
   "metadata": {},
   "outputs": [
    {
     "data": {
      "text/plain": [
       "fouls_opp_cat1\n",
       "(8, 12]      195\n",
       "(12, 16]     167\n",
       "(-Inf, 8]     84\n",
       "(16, 20]      58\n",
       "(20, Inf)     14\n",
       "Name: count, dtype: int64"
      ]
     },
     "execution_count": 4,
     "metadata": {},
     "output_type": "execute_result"
    }
   ],
   "source": [
    "dt[\"fouls_opp_cat1\"] = stepsel.binning.bin_values(dt[\"fouls_opp\"], [8, 12, 16, 20])\n",
    "dt[\"fouls_opp_cat1\"].value_counts()"
   ]
  },
  {
   "cell_type": "markdown",
   "metadata": {},
   "source": [
    "### Optimal binning\n",
    "Optimal binning can be time consuming, so when the data is large, and there are many cp values, they are grouped using K-means clustering and only the best clusters are used. This process is controlled by the Flow Parameters (see the docstring).\n",
    "Other parameters are used to control the scikit-learn's `DecisionTreeRegressor`, `KMeans` and `GridSearchCV`."
   ]
  },
  {
   "cell_type": "code",
   "execution_count": 5,
   "metadata": {},
   "outputs": [
    {
     "name": "stdout",
     "output_type": "stream",
     "text": [
      "\n",
      "Starting cross-validation for 58 cp values at 15:20:32.\n",
      "Estimated runtime: 0.015105549494425457 minutes.\n"
     ]
    },
    {
     "data": {
      "image/png": "[encoded data removed]",
      "text/plain": [
       "<Figure size 1500x1000 with 1 Axes>"
      ]
     },
     "metadata": {},
     "output_type": "display_data"
    }
   ],
   "source": [
    "X = np.array(dt.loc[:, [\"fouls_opp\"]])\n",
    "y = np.array(dt.loc[:, \"goals\"])\n",
    "\n",
    "clf = stepsel.binning.optimal.OptimalBinningUsingDecisionTreeRegressor(\n",
    "    criterion = 'poisson',\n",
    "    scoring = \"neg_mean_poisson_deviance\",\n",
    "    refit = \"neg_mean_poisson_deviance\",\n",
    "    max_depth = 3\n",
    ")\n",
    "clf.fit(X, y) # Fit the model\n",
    "clf.set_feature_names([\"fouls_opp\"]) # Set the feature names for the plot\n",
    "clf.plot_tree((15,10)) # Plot the tree"
   ]
  },
  {
   "cell_type": "code",
   "execution_count": 6,
   "metadata": {},
   "outputs": [
    {
     "data": {
      "text/plain": [
       "fouls_opp_cat2\n",
       "1.551570    446\n",
       "1.152778     72\n",
       "Name: count, dtype: int64"
      ]
     },
     "execution_count": 6,
     "metadata": {},
     "output_type": "execute_result"
    }
   ],
   "source": [
    "# Predicting the values\n",
    "dt[\"fouls_opp_cat2\"] = clf.predict(X)\n",
    "dt[\"fouls_opp_cat2\"].value_counts()"
   ]
  },
  {
   "cell_type": "code",
   "execution_count": 7,
   "metadata": {},
   "outputs": [],
   "source": [
    "# Creating the bins\n",
    "dt[\"fouls_opp_cat2\"] = clf.bin_values(dt[\"fouls_opp\"])\n",
    "dt[\"fouls_opp_cat2\"] = dt[\"fouls_opp_cat2\"].astype(\"category\")"
   ]
  },
  {
   "cell_type": "code",
   "execution_count": 8,
   "metadata": {},
   "outputs": [
    {
     "data": {
      "text/plain": [
       "{'fouls_opp': array([16.5])}"
      ]
     },
     "execution_count": 8,
     "metadata": {},
     "output_type": "execute_result"
    }
   ],
   "source": [
    "# Function to get the cut points can be used for any scikit-learn tree based model\n",
    "# The final tree can be obtained from the cv_fit attribute of the model Log object\n",
    "stepsel.binning.helper.get_tree_cut_points(clf.Log.fit_log[\"cv_fit\"].best_estimator_, feature_names=[\"fouls_opp\"])"
   ]
  },
  {
   "cell_type": "markdown",
   "metadata": {},
   "source": [
    "## Setting the reference category\n",
    "You can order any number of teams, the first one will be the reference category"
   ]
  },
  {
   "cell_type": "code",
   "execution_count": 9,
   "metadata": {},
   "outputs": [
    {
     "name": "stdout",
     "output_type": "stream",
     "text": [
      "Series is not categorical, converting to categorical.\n",
      "Series is not categorical, converting to categorical.\n",
      "Series is not categorical, converting to categorical.\n",
      "Series is not categorical, converting to categorical.\n"
     ]
    }
   ],
   "source": [
    "dt[\"hga\"] = stepsel.modeling.prep.relevel_categorical_variable(dt[\"hga\"], [\"H\"])\n",
    "dt[\"team\"] = stepsel.modeling.prep.relevel_categorical_variable(dt[\"team\"], [\"Bohemians\", \"Jablonec\"])\n",
    "dt[\"team_opp\"] = stepsel.modeling.prep.relevel_categorical_variable(dt[\"team_opp\"], [\"Bohemians\", \"Jablonec\", \"Teplice\"])\n",
    "dt[\"fouls_opp_cat1\"] = stepsel.modeling.prep.relevel_categorical_variable(dt[\"fouls_opp_cat1\"], [\"(-Inf, 8]\"])"
   ]
  },
  {
   "cell_type": "markdown",
   "metadata": {},
   "source": [
    "## Stepwise selection\n",
    "The most important parameters for the selection are `formula`, `include`, `slentry` and `slstay`. Specifying the formula in R-style format, the variables to always include in the model, and the significance levels of the likelihood ratio test for entering and staying in the model."
   ]
  },
  {
   "cell_type": "code",
   "execution_count": 10,
   "metadata": {},
   "outputs": [],
   "source": [
    "# Parameters for the model\n",
    "formula = \"goals ~ team + hga + red_opp + fouls_opp_cat1 + fouls_opp_cat2\"\n",
    "include = ['ref_interv_per_attack * ref_interv_per_attack_opp', \"penalty\"]\n",
    "slentry = 0.05\n",
    "slstay = 0.10\n",
    "family = sm.families.Poisson()"
   ]
  },
  {
   "cell_type": "code",
   "execution_count": 11,
   "metadata": {},
   "outputs": [
    {
     "name": "stdout",
     "output_type": "stream",
     "text": [
      "Best entry candidates:\n",
      "          feature   p_value\n",
      "0            team  0.000002\n",
      "1             hga  0.000609\n",
      "2         red_opp  0.005159\n",
      "3  fouls_opp_cat2  0.013067\n",
      "4  fouls_opp_cat1  0.060894\n",
      ">> team entered the model.\n",
      "\n",
      "Best removal candidates:\n",
      "  feature   p_value\n",
      "0    team  0.000002\n",
      ">> No feature removed from the model.\n",
      "\n",
      "Best entry candidates:\n",
      "          feature   p_value\n",
      "0             hga  0.000608\n",
      "1         red_opp  0.004282\n",
      "2  fouls_opp_cat2  0.045388\n",
      "3  fouls_opp_cat1  0.160092\n",
      ">> hga entered the model.\n",
      "\n",
      "Best removal candidates:\n",
      "  feature   p_value\n",
      "0     hga  0.000608\n",
      "1    team  0.000002\n",
      ">> No feature removed from the model.\n",
      "\n",
      "Best entry candidates:\n",
      "          feature   p_value\n",
      "0         red_opp  0.003997\n",
      "1  fouls_opp_cat2  0.022037\n",
      "2  fouls_opp_cat1  0.052854\n",
      ">> red_opp entered the model.\n",
      "\n",
      "Best removal candidates:\n",
      "   feature   p_value\n",
      "0  red_opp  0.003997\n",
      "1      hga  0.000569\n",
      "2     team  0.000002\n",
      ">> No feature removed from the model.\n",
      "\n",
      "Best entry candidates:\n",
      "          feature   p_value\n",
      "0  fouls_opp_cat2  0.037692\n",
      "1  fouls_opp_cat1  0.108477\n",
      ">> fouls_opp_cat2 entered the model.\n",
      "\n",
      "Best removal candidates:\n",
      "          feature   p_value\n",
      "0  fouls_opp_cat2  0.037692\n",
      "1         red_opp  0.006665\n",
      "2             hga  0.000305\n",
      "3            team  0.000004\n",
      ">> No feature removed from the model.\n",
      "\n",
      "Best entry candidates:\n",
      "          feature   p_value\n",
      "0  fouls_opp_cat1  0.353892\n",
      ">> No feature entered the model.\n",
      "\n",
      "Best removal candidates:\n",
      "          feature   p_value\n",
      "0  fouls_opp_cat2  0.037692\n",
      "1         red_opp  0.006665\n",
      "2             hga  0.000305\n",
      "3            team  0.000004\n",
      ">> No feature removed from the model.\n",
      "\n",
      "\n",
      "Selection stopped because all candidates for removal are significant at the 0.1 level and no candidate for entry is significant at the 0.05 level.\n",
      "\n",
      "                 Generalized Linear Model Regression Results                  \n",
      "==============================================================================\n",
      "Dep. Variable:                  goals   No. Observations:                  518\n",
      "Model:                            GLM   Df Residuals:                      497\n",
      "Model Family:                 Poisson   Df Model:                           20\n",
      "Link Function:                    Log   Scale:                          1.0000\n",
      "Method:                          IRLS   Log-Likelihood:                -754.52\n",
      "Date:                Tue, 03 Sep 2024   Deviance:                       521.53\n",
      "Time:                        15:20:35   Pearson chi2:                     442.\n",
      "No. Iterations:                     5   Pseudo R-squ. (CS):             0.1771\n",
      "Covariance Type:            nonrobust                                         \n",
      "=====================================================================================================================\n",
      "                                                        coef    std err          z      P>|z|      [0.025      0.975]\n",
      "---------------------------------------------------------------------------------------------------------------------\n",
      "Intercept                                             0.6056      0.148      4.103      0.000       0.316       0.895\n",
      "red_opp                                               0.3259      0.116      2.814      0.005       0.099       0.553\n",
      "penalty                                               0.3239      0.084      3.867      0.000       0.160       0.488\n",
      "team: Jablonec                                       -0.0641      0.199     -0.323      0.747      -0.453       0.325\n",
      "team: Slovácko                                       -0.2592      0.210     -1.235      0.217      -0.670       0.152\n",
      "team: Hradec Králové                                 -0.2959      0.216     -1.367      0.172      -0.720       0.128\n",
      "team: Sparta Praha                                    0.2930      0.179      1.639      0.101      -0.057       0.643\n",
      "team: Teplice                                        -0.3210      0.208     -1.545      0.122      -0.728       0.086\n",
      "team: Sigma Olomouc                                  -0.0832      0.197     -0.423      0.672      -0.469       0.302\n",
      "team: Slavia Praha                                    0.5141      0.172      2.992      0.003       0.177       0.851\n",
      "team: České Budějovice                               -0.2703      0.213     -1.269      0.204      -0.688       0.147\n",
      "team: Zbrojovka Brno                                 -0.2573      0.209     -1.231      0.218      -0.667       0.152\n",
      "team: Zlín                                           -0.2405      0.211     -1.141      0.254      -0.654       0.173\n",
      "team: Mladá Boleslav                                 -0.3061      0.211     -1.453      0.146      -0.719       0.107\n",
      "team: Viktoria Plzeň                                  0.0649      0.189      0.343      0.732      -0.306       0.436\n",
      "team: Baník Ostrava                                  -0.0717      0.199     -0.360      0.719      -0.462       0.318\n",
      "team: Slovan Liberec                                 -0.1045      0.203     -0.515      0.607      -0.502       0.293\n",
      "team: Pardubice                                      -0.4425      0.226     -1.955      0.051      -0.886       0.001\n",
      "hga: A                                               -0.2616      0.073     -3.597      0.000      -0.404      -0.119\n",
      "fouls_opp_cat2: (16.5, Inf)                          -0.2456      0.121     -2.024      0.043      -0.483      -0.008\n",
      "ref_interv_per_attack * ref_interv_per_attack_opp    -1.5845      1.311     -1.208      0.227      -4.154       0.985\n",
      "=====================================================================================================================\n"
     ]
    },
    {
     "data": {
      "text/plain": [
       "<stepsel.modeling.stepwise_glm.StepwiseGLM at 0x1eff359bcb0>"
      ]
     },
     "execution_count": 11,
     "metadata": {},
     "output_type": "execute_result"
    }
   ],
   "source": [
    "# Fitting the model\n",
    "model1 = stepsel.modeling.stepwise_glm.StepwiseGLM(\n",
    "    formula = formula,\n",
    "    data = dt,\n",
    "    include = include,\n",
    "    slentry = slentry,\n",
    "    slstay = slstay,\n",
    "    family = family\n",
    ")\n",
    "model1.fit()"
   ]
  },
  {
   "cell_type": "markdown",
   "metadata": {},
   "source": [
    "### Refitting the model\n",
    "After the selection it is possible to specify different model formula and use the Log of the previously fitted model to speed up the selection. This is useful when the data is large and the selection is time consuming. The same partial models during the selection won't be fitted again.\n",
    "**Only use this functionality when the data has not changed!**"
   ]
  },
  {
   "cell_type": "code",
   "execution_count": 12,
   "metadata": {},
   "outputs": [
    {
     "name": "stdout",
     "output_type": "stream",
     "text": [
      "Best entry candidates:\n",
      "          feature   p_value\n",
      "0            team  0.000002\n",
      "1        team_opp  0.000284\n",
      "2             hga  0.000609\n",
      "3         red_opp  0.005159\n",
      "4  fouls_opp_cat2  0.013067\n",
      ">> team entered the model.\n",
      "\n",
      "Best removal candidates:\n",
      "  feature   p_value\n",
      "0    team  0.000002\n",
      ">> No feature removed from the model.\n",
      "\n",
      "Best entry candidates:\n",
      "          feature   p_value\n",
      "0        team_opp  0.000392\n",
      "1             hga  0.000608\n",
      "2         red_opp  0.004282\n",
      "3  fouls_opp_cat2  0.045388\n",
      "4  fouls_opp_cat1  0.160092\n",
      ">> team_opp entered the model.\n",
      "\n",
      "Best removal candidates:\n",
      "    feature   p_value\n",
      "0  team_opp  0.000392\n",
      "1      team  0.000003\n",
      ">> No feature removed from the model.\n",
      "\n",
      "Best entry candidates:\n",
      "          feature   p_value\n",
      "0             hga  0.000621\n",
      "1         red_opp  0.005264\n",
      "2  fouls_opp_cat2  0.078540\n",
      "3  fouls_opp_cat1  0.131029\n",
      ">> hga entered the model.\n",
      "\n",
      "Best removal candidates:\n",
      "    feature   p_value\n",
      "0       hga  0.000621\n",
      "1  team_opp  0.000397\n",
      "2      team  0.000003\n",
      ">> No feature removed from the model.\n",
      "\n",
      "Best entry candidates:\n",
      "          feature   p_value\n",
      "0         red_opp  0.005355\n",
      "1  fouls_opp_cat1  0.044937\n",
      "2  fouls_opp_cat2  0.049454\n",
      ">> red_opp entered the model.\n",
      "\n",
      "Best removal candidates:\n",
      "    feature   p_value\n",
      "0   red_opp  0.005355\n",
      "1       hga  0.000632\n",
      "2  team_opp  0.000478\n",
      "3      team  0.000003\n",
      ">> No feature removed from the model.\n",
      "\n",
      "Best entry candidates:\n",
      "          feature   p_value\n",
      "0  fouls_opp_cat2  0.096376\n",
      "1  fouls_opp_cat1  0.097127\n",
      ">> No feature entered the model.\n",
      "\n",
      "Best removal candidates:\n",
      "    feature   p_value\n",
      "0   red_opp  0.005355\n",
      "1       hga  0.000632\n",
      "2  team_opp  0.000478\n",
      "3      team  0.000003\n",
      ">> No feature removed from the model.\n",
      "\n",
      "\n",
      "Selection stopped because all candidates for removal are significant at the 0.1 level and no candidate for entry is significant at the 0.05 level.\n",
      "\n",
      "                 Generalized Linear Model Regression Results                  \n",
      "==============================================================================\n",
      "Dep. Variable:                  goals   No. Observations:                  518\n",
      "Model:                            GLM   Df Residuals:                      483\n",
      "Model Family:                 Poisson   Df Model:                           34\n",
      "Link Function:                    Log   Scale:                          1.0000\n",
      "Method:                          IRLS   Log-Likelihood:                -736.76\n",
      "Date:                Tue, 03 Sep 2024   Deviance:                       486.00\n",
      "Time:                        15:20:35   Pearson chi2:                     405.\n",
      "No. Iterations:                     5   Pseudo R-squ. (CS):             0.2316\n",
      "Covariance Type:            nonrobust                                         \n",
      "=====================================================================================================================\n",
      "                                                        coef    std err          z      P>|z|      [0.025      0.975]\n",
      "---------------------------------------------------------------------------------------------------------------------\n",
      "Intercept                                             0.6859      0.204      3.367      0.001       0.287       1.085\n",
      "red_opp                                               0.3446      0.120      2.880      0.004       0.110       0.579\n",
      "penalty                                               0.3079      0.085      3.633      0.000       0.142       0.474\n",
      "team: Jablonec                                       -0.1051      0.200     -0.526      0.599      -0.496       0.286\n",
      "team: Slovácko                                       -0.3340      0.211     -1.585      0.113      -0.747       0.079\n",
      "team: Hradec Králové                                 -0.3747      0.217     -1.727      0.084      -0.800       0.051\n",
      "team: Sparta Praha                                    0.2698      0.180      1.501      0.133      -0.082       0.622\n",
      "team: Teplice                                        -0.3210      0.208     -1.541      0.123      -0.729       0.087\n",
      "team: Sigma Olomouc                                  -0.1164      0.197     -0.590      0.556      -0.503       0.271\n",
      "team: Slavia Praha                                    0.4651      0.173      2.691      0.007       0.126       0.804\n",
      "team: České Budějovice                               -0.2836      0.214     -1.326      0.185      -0.703       0.136\n",
      "team: Zbrojovka Brno                                 -0.2716      0.210     -1.294      0.196      -0.683       0.140\n",
      "team: Zlín                                           -0.2897      0.212     -1.369      0.171      -0.704       0.125\n",
      "team: Mladá Boleslav                                 -0.3335      0.212     -1.576      0.115      -0.748       0.081\n",
      "team: Viktoria Plzeň                                  0.0574      0.190      0.302      0.763      -0.315       0.430\n",
      "team: Baník Ostrava                                  -0.1165      0.200     -0.584      0.559      -0.508       0.275\n",
      "team: Slovan Liberec                                 -0.1739      0.204     -0.853      0.393      -0.573       0.226\n",
      "team: Pardubice                                      -0.4832      0.227     -2.129      0.033      -0.928      -0.038\n",
      "hga: A                                               -0.2470      0.073     -3.404      0.001      -0.389      -0.105\n",
      "team_opp: Jablonec                                    0.1064      0.187      0.570      0.569      -0.260       0.472\n",
      "team_opp: Teplice                                     0.1953      0.184      1.064      0.287      -0.165       0.555\n",
      "team_opp: Slovácko                                   -0.2684      0.205     -1.310      0.190      -0.670       0.133\n",
      "team_opp: Hradec Králové                             -0.3510      0.208     -1.685      0.092      -0.759       0.057\n",
      "team_opp: Sparta Praha                               -0.4883      0.223     -2.192      0.028      -0.925      -0.052\n",
      "team_opp: Sigma Olomouc                              -0.1868      0.202     -0.925      0.355      -0.583       0.209\n",
      "team_opp: Slavia Praha                               -0.6235      0.229     -2.718      0.007      -1.073      -0.174\n",
      "team_opp: České Budějovice                            0.0914      0.188      0.485      0.627      -0.278       0.461\n",
      "team_opp: Zbrojovka Brno                              0.1574      0.185      0.849      0.396      -0.206       0.521\n",
      "team_opp: Zlín                                        0.1161      0.188      0.619      0.536      -0.252       0.484\n",
      "team_opp: Mladá Boleslav                             -0.1597      0.202     -0.791      0.429      -0.556       0.236\n",
      "team_opp: Viktoria Plzeň                             -0.3707      0.214     -1.732      0.083      -0.790       0.049\n",
      "team_opp: Baník Ostrava                              -0.1468      0.204     -0.720      0.471      -0.546       0.253\n",
      "team_opp: Slovan Liberec                             -0.1634      0.199     -0.820      0.412      -0.554       0.227\n",
      "team_opp: Pardubice                                   0.0812      0.188      0.432      0.666      -0.287       0.449\n",
      "ref_interv_per_attack * ref_interv_per_attack_opp    -1.1145      1.309     -0.852      0.394      -3.679       1.450\n",
      "=====================================================================================================================\n"
     ]
    },
    {
     "data": {
      "text/plain": [
       "<stepsel.modeling.stepwise_glm.StepwiseGLM at 0x1eff37704a0>"
      ]
     },
     "execution_count": 12,
     "metadata": {},
     "output_type": "execute_result"
    }
   ],
   "source": [
    "# The new formula including the team_opp variable\n",
    "formula_new = \"goals ~ team + hga + red_opp + fouls_opp_cat1 + fouls_opp_cat2 + team_opp\"\n",
    "model2 = stepsel.modeling.stepwise_glm.StepwiseGLM(\n",
    "    formula = formula_new,\n",
    "    data = dt,\n",
    "    include = include,\n",
    "    slentry = slentry,\n",
    "    slstay = slstay,\n",
    "    model_fit_log = model1.model_fit_log, # Use the previous model fit Log object\n",
    "    family = sm.families.Poisson()\n",
    ")\n",
    "model2.fit()"
   ]
  },
  {
   "cell_type": "code",
   "execution_count": 13,
   "metadata": {},
   "outputs": [
    {
     "name": "stdout",
     "output_type": "stream",
     "text": [
      "                 Generalized Linear Model Regression Results                  \n",
      "==============================================================================\n",
      "Dep. Variable:                  goals   No. Observations:                  518\n",
      "Model:                            GLM   Df Residuals:                      483\n",
      "Model Family:                 Poisson   Df Model:                           34\n",
      "Link Function:                    Log   Scale:                          1.0000\n",
      "Method:                          IRLS   Log-Likelihood:                -736.76\n",
      "Date:                Tue, 03 Sep 2024   Deviance:                       486.00\n",
      "Time:                        15:20:35   Pearson chi2:                     405.\n",
      "No. Iterations:                     5   Pseudo R-squ. (CS):             0.2316\n",
      "Covariance Type:            nonrobust                                         \n",
      "=====================================================================================================================\n",
      "                                                        coef    std err          z      P>|z|      [0.025      0.975]\n",
      "---------------------------------------------------------------------------------------------------------------------\n",
      "Intercept                                             0.6859      0.204      3.367      0.001       0.287       1.085\n",
      "red_opp                                               0.3446      0.120      2.880      0.004       0.110       0.579\n",
      "penalty                                               0.3079      0.085      3.633      0.000       0.142       0.474\n",
      "team: Jablonec                                       -0.1051      0.200     -0.526      0.599      -0.496       0.286\n",
      "team: Slovácko                                       -0.3340      0.211     -1.585      0.113      -0.747       0.079\n",
      "team: Hradec Králové                                 -0.3747      0.217     -1.727      0.084      -0.800       0.051\n",
      "team: Sparta Praha                                    0.2698      0.180      1.501      0.133      -0.082       0.622\n",
      "team: Teplice                                        -0.3210      0.208     -1.541      0.123      -0.729       0.087\n",
      "team: Sigma Olomouc                                  -0.1164      0.197     -0.590      0.556      -0.503       0.271\n",
      "team: Slavia Praha                                    0.4651      0.173      2.691      0.007       0.126       0.804\n",
      "team: České Budějovice                               -0.2836      0.214     -1.326      0.185      -0.703       0.136\n",
      "team: Zbrojovka Brno                                 -0.2716      0.210     -1.294      0.196      -0.683       0.140\n",
      "team: Zlín                                           -0.2897      0.212     -1.369      0.171      -0.704       0.125\n",
      "team: Mladá Boleslav                                 -0.3335      0.212     -1.576      0.115      -0.748       0.081\n",
      "team: Viktoria Plzeň                                  0.0574      0.190      0.302      0.763      -0.315       0.430\n",
      "team: Baník Ostrava                                  -0.1165      0.200     -0.584      0.559      -0.508       0.275\n",
      "team: Slovan Liberec                                 -0.1739      0.204     -0.853      0.393      -0.573       0.226\n",
      "team: Pardubice                                      -0.4832      0.227     -2.129      0.033      -0.928      -0.038\n",
      "hga: A                                               -0.2470      0.073     -3.404      0.001      -0.389      -0.105\n",
      "team_opp: Jablonec                                    0.1064      0.187      0.570      0.569      -0.260       0.472\n",
      "team_opp: Teplice                                     0.1953      0.184      1.064      0.287      -0.165       0.555\n",
      "team_opp: Slovácko                                   -0.2684      0.205     -1.310      0.190      -0.670       0.133\n",
      "team_opp: Hradec Králové                             -0.3510      0.208     -1.685      0.092      -0.759       0.057\n",
      "team_opp: Sparta Praha                               -0.4883      0.223     -2.192      0.028      -0.925      -0.052\n",
      "team_opp: Sigma Olomouc                              -0.1868      0.202     -0.925      0.355      -0.583       0.209\n",
      "team_opp: Slavia Praha                               -0.6235      0.229     -2.718      0.007      -1.073      -0.174\n",
      "team_opp: České Budějovice                            0.0914      0.188      0.485      0.627      -0.278       0.461\n",
      "team_opp: Zbrojovka Brno                              0.1574      0.185      0.849      0.396      -0.206       0.521\n",
      "team_opp: Zlín                                        0.1161      0.188      0.619      0.536      -0.252       0.484\n",
      "team_opp: Mladá Boleslav                             -0.1597      0.202     -0.791      0.429      -0.556       0.236\n",
      "team_opp: Viktoria Plzeň                             -0.3707      0.214     -1.732      0.083      -0.790       0.049\n",
      "team_opp: Baník Ostrava                              -0.1468      0.204     -0.720      0.471      -0.546       0.253\n",
      "team_opp: Slovan Liberec                             -0.1634      0.199     -0.820      0.412      -0.554       0.227\n",
      "team_opp: Pardubice                                   0.0812      0.188      0.432      0.666      -0.287       0.449\n",
      "ref_interv_per_attack * ref_interv_per_attack_opp    -1.1145      1.309     -0.852      0.394      -3.679       1.450\n",
      "=====================================================================================================================\n"
     ]
    }
   ],
   "source": [
    "# Print the summary of the final model. The extracted model is statsmodels object.\n",
    "final_model = model2.current_model\n",
    "print(final_model.summary())"
   ]
  },
  {
   "cell_type": "markdown",
   "metadata": {},
   "source": [
    "## Prepering model matrix for other models\n",
    "The `stepsel` package can be used to prepare the model matrix for other models. The `prepare_model_matrix` function is used for this purpose using the convienient `formula` syntax.\n",
    "Interaction terms of two variables are supported."
   ]
  },
  {
   "cell_type": "code",
   "execution_count": 14,
   "metadata": {},
   "outputs": [],
   "source": [
    "# Prepare the model matrix\n",
    "formula = \"goals ~ team + hga * penalty\"\n",
    "y, X, feature_ids = stepsel.modeling.prep.prepare_model_matrix(formula, dt)"
   ]
  },
  {
   "cell_type": "markdown",
   "metadata": {},
   "source": [
    "## Fit `statsmodels` model with prepared model matrix using `stepsel`"
   ]
  },
  {
   "cell_type": "code",
   "execution_count": 15,
   "metadata": {},
   "outputs": [],
   "source": [
    "# Train-test split based on the match_id\n",
    "train_filter = dt[\"match_id\"] <= 200\n",
    "y_train = y[train_filter]\n",
    "X_train = X.loc[train_filter,:].copy()\n",
    "y_test = y[~train_filter]\n",
    "X_test = X.loc[~train_filter,:].copy()"
   ]
  },
  {
   "cell_type": "code",
   "execution_count": 16,
   "metadata": {},
   "outputs": [
    {
     "name": "stdout",
     "output_type": "stream",
     "text": [
      "                 Generalized Linear Model Regression Results                  \n",
      "==============================================================================\n",
      "Dep. Variable:                  goals   No. Observations:                  400\n",
      "Model:                            GLM   Df Residuals:                      382\n",
      "Model Family:                 Poisson   Df Model:                           17\n",
      "Link Function:                    Log   Scale:                          1.0000\n",
      "Method:                          IRLS   Log-Likelihood:                -593.90\n",
      "Date:                Tue, 03 Sep 2024   Deviance:                       423.76\n",
      "Time:                        15:20:35   Pearson chi2:                     369.\n",
      "No. Iterations:                     5   Pseudo R-squ. (CS):             0.1442\n",
      "Covariance Type:            nonrobust                                         \n",
      "==========================================================================================\n",
      "                             coef    std err          z      P>|z|      [0.025      0.975]\n",
      "------------------------------------------------------------------------------------------\n",
      "Intercept                  0.4030      0.159      2.531      0.011       0.091       0.715\n",
      "team: Jablonec            -0.0476      0.226     -0.211      0.833      -0.490       0.394\n",
      "team: Slovácko            -0.2853      0.244     -1.171      0.242      -0.763       0.192\n",
      "team: Hradec Králové      -0.2945      0.243     -1.210      0.226      -0.772       0.183\n",
      "team: Sparta Praha         0.4073      0.201      2.031      0.042       0.014       0.800\n",
      "team: Teplice             -0.2247      0.234     -0.960      0.337      -0.683       0.234\n",
      "team: Sigma Olomouc        0.0312      0.221      0.141      0.888      -0.403       0.465\n",
      "team: Slavia Praha         0.4624      0.201      2.295      0.022       0.067       0.857\n",
      "team: České Budějovice    -0.2186      0.239     -0.915      0.360      -0.687       0.250\n",
      "team: Zbrojovka Brno      -0.3861      0.248     -1.557      0.120      -0.872       0.100\n",
      "team: Zlín                -0.1886      0.239     -0.790      0.430      -0.657       0.279\n",
      "team: Mladá Boleslav      -0.2761      0.244     -1.131      0.258      -0.755       0.202\n",
      "team: Viktoria Plzeň       0.1407      0.214      0.656      0.512      -0.279       0.561\n",
      "team: Baník Ostrava       -0.0086      0.224     -0.038      0.969      -0.448       0.431\n",
      "team: Slovan Liberec      -0.1769      0.235     -0.754      0.451      -0.637       0.283\n",
      "team: Pardubice           -0.3462      0.249     -1.390      0.165      -0.834       0.142\n",
      "hga: H * penalty           0.4112      0.120      3.426      0.001       0.176       0.646\n",
      "hga: A * penalty           0.2397      0.112      2.131      0.033       0.019       0.460\n",
      "==========================================================================================\n"
     ]
    }
   ],
   "source": [
    "# Fit the model\n",
    "model3 = sm.GLM(endog = y_train,\n",
    "              exog = X_train,\n",
    "              family = family)\n",
    "model3 = model3.fit()\n",
    "print(model3.summary())"
   ]
  },
  {
   "cell_type": "markdown",
   "metadata": {},
   "source": [
    "## Fixing some of the variables coefficients\n",
    "It is possible to fix some of the variables coefficients to a specific value using offset. This is particularly useful when the variable is a factor and one or more of its levels are not well fitted by the model."
   ]
  },
  {
   "cell_type": "code",
   "execution_count": 17,
   "metadata": {},
   "outputs": [],
   "source": [
    "# Fix some of the coefficients - use the names of the coefficients from the summary\n",
    "adjusted_coeffs = {\"team: Baník Ostrava\": 0.00,\n",
    "                   \"hga: H * penalty\": 0.45 \n",
    "}"
   ]
  },
  {
   "cell_type": "code",
   "execution_count": 18,
   "metadata": {},
   "outputs": [],
   "source": [
    "# Adjust the model matrix and offset\n",
    "X_train, X_test, offset_train, offset_test = stepsel.modeling.prep.model_matrix.adjust_model_matrix([X_train, X_test], adjusted_coeffs)"
   ]
  },
  {
   "cell_type": "code",
   "execution_count": 19,
   "metadata": {},
   "outputs": [
    {
     "name": "stdout",
     "output_type": "stream",
     "text": [
      "                 Generalized Linear Model Regression Results                  \n",
      "==============================================================================\n",
      "Dep. Variable:                  goals   No. Observations:                  400\n",
      "Model:                            GLM   Df Residuals:                      384\n",
      "Model Family:                 Poisson   Df Model:                           15\n",
      "Link Function:                    Log   Scale:                          1.0000\n",
      "Method:                          IRLS   Log-Likelihood:                -593.96\n",
      "Date:                Tue, 03 Sep 2024   Deviance:                       423.87\n",
      "Time:                        15:20:36   Pearson chi2:                     370.\n",
      "No. Iterations:                     5   Pseudo R-squ. (CS):             0.1189\n",
      "Covariance Type:            nonrobust                                         \n",
      "==========================================================================================\n",
      "                             coef    std err          z      P>|z|      [0.025      0.975]\n",
      "------------------------------------------------------------------------------------------\n",
      "Intercept                  0.3918      0.112      3.492      0.000       0.172       0.612\n",
      "team: Jablonec            -0.0413      0.197     -0.209      0.834      -0.428       0.345\n",
      "team: Slovácko            -0.2766      0.217     -1.276      0.202      -0.701       0.148\n",
      "team: Hradec Králové      -0.2878      0.217     -1.327      0.185      -0.713       0.137\n",
      "team: Sparta Praha         0.4092      0.169      2.426      0.015       0.079       0.740\n",
      "team: Teplice             -0.2206      0.207     -1.065      0.287      -0.627       0.185\n",
      "team: Sigma Olomouc        0.0376      0.192      0.196      0.845      -0.339       0.414\n",
      "team: Slavia Praha         0.4703      0.169      2.785      0.005       0.139       0.801\n",
      "team: České Budějovice    -0.2099      0.212     -0.992      0.321      -0.625       0.205\n",
      "team: Zbrojovka Brno      -0.3819      0.223     -1.716      0.086      -0.818       0.054\n",
      "team: Zlín                -0.1821      0.212     -0.860      0.390      -0.597       0.233\n",
      "team: Mladá Boleslav      -0.2652      0.217     -1.223      0.221      -0.690       0.160\n",
      "team: Viktoria Plzeň       0.1474      0.184      0.802      0.423      -0.213       0.508\n",
      "team: Slovan Liberec      -0.1685      0.207     -0.814      0.416      -0.574       0.237\n",
      "team: Pardubice           -0.3373      0.223     -1.514      0.130      -0.774       0.099\n",
      "hga: A * penalty           0.2439      0.112      2.184      0.029       0.025       0.463\n",
      "==========================================================================================\n"
     ]
    }
   ],
   "source": [
    "# Fit the final model using the adjusted model matrix and offset\n",
    "model_final2 = sm.GLM(endog = y_train,\n",
    "              exog = X_train,\n",
    "              family = family,\n",
    "              offset = offset_train)\n",
    "model_final2 = model_final2.fit()\n",
    "print(model_final2.summary())"
   ]
  },
  {
   "cell_type": "markdown",
   "metadata": {},
   "source": [
    "## Scoring the model\n",
    "The model can be scored via standard `statsmodels` API. `stepsel` package provides a `scoring_table` object, which handles the fixed variables and the offset in a straightforward way. It is also possible to generate SQL code for scoring the model in the database."
   ]
  },
  {
   "cell_type": "code",
   "execution_count": 20,
   "metadata": {},
   "outputs": [
    {
     "name": "stdout",
     "output_type": "stream",
     "text": [
      "ScoringTableGLM(scoring_table=         var1     var2        level_var1 level_var2  estimate\n",
      "0   Intercept     None              None       None  0.391757\n",
      "1        team     None  České Budějovice       None -0.209868\n",
      "2        team     None              Zlín       None -0.182095\n",
      "3        team     None    Zbrojovka Brno       None -0.381924\n",
      "4        team     None    Viktoria Plzeň       None  0.147379\n",
      "5        team     None           Teplice       None -0.220638\n",
      "6        team     None      Sparta Praha       None  0.409163\n",
      "7        team     None          Slovácko       None -0.276560\n",
      "8        team     None    Slovan Liberec       None -0.168498\n",
      "9        team     None      Slavia Praha       None  0.470338\n",
      "10       team     None     Sigma Olomouc       None  0.037562\n",
      "11       team     None         Pardubice       None -0.337274\n",
      "12       team     None    Mladá Boleslav       None -0.265193\n",
      "13       team     None          Jablonec       None -0.041279\n",
      "14       team     None    Hradec Králové       None -0.287798\n",
      "15       team     None     Baník Ostrava       None  0.000000\n",
      "16        hga  penalty                 H       None  0.450000\n",
      "17        hga  penalty                 A       None  0.243900)\n"
     ]
    }
   ],
   "source": [
    "# Create scoring table\n",
    "# Notice the fixed coefficients are also used in the scoring table\n",
    "# You can also create the scoring table from csv file or pandas DataFrame.\n",
    "scoring_table = stepsel.modeling.predict.ScoringTableGLM.from_glm_model(model_final2, adjusted_coeffs)\n",
    "print(scoring_table)"
   ]
  },
  {
   "cell_type": "code",
   "execution_count": 21,
   "metadata": {},
   "outputs": [],
   "source": [
    "# For prediction, prepare the full model matrix\n",
    "y, X_full, feature_ids_full = stepsel.modeling.prep.prepare_model_matrix(formula, dt, drop_first=False)\n",
    "\n",
    "# There is a method to predict the linear predictor of the model, which can be used to calculate the predictions\n",
    "dt[\"preds\"] = np.exp(scoring_table.predict_linear(X_full))"
   ]
  },
  {
   "cell_type": "code",
   "execution_count": 22,
   "metadata": {},
   "outputs": [
    {
     "name": "stdout",
     "output_type": "stream",
     "text": [
      " + 0.39175660628921744\n",
      " + case  when TRIM(CAST(team as varchar(999))) = 'České Budějovice' then -0.2098683563962888\n",
      " when TRIM(CAST(team as varchar(999))) = 'Zlín' then -0.18209532272001644\n",
      " when TRIM(CAST(team as varchar(999))) = 'Zbrojovka Brno' then -0.38192399630625384\n",
      " when TRIM(CAST(team as varchar(999))) = 'Viktoria Plzeň' then 0.14737941642116634\n",
      " when TRIM(CAST(team as varchar(999))) = 'Teplice' then -0.22063773340931742\n",
      " when TRIM(CAST(team as varchar(999))) = 'Sparta Praha' then 0.4091626261463453\n",
      " when TRIM(CAST(team as varchar(999))) = 'Slovácko' then -0.2765597308949614\n",
      " when TRIM(CAST(team as varchar(999))) = 'Slovan Liberec' then -0.1684980555750112\n",
      " when TRIM(CAST(team as varchar(999))) = 'Slavia Praha' then 0.4703384015175229\n",
      " when TRIM(CAST(team as varchar(999))) = 'Sigma Olomouc' then 0.037561752737359774\n",
      " when TRIM(CAST(team as varchar(999))) = 'Pardubice' then -0.33727351980242654\n",
      " when TRIM(CAST(team as varchar(999))) = 'Mladá Boleslav' then -0.2651933788212607\n",
      " when TRIM(CAST(team as varchar(999))) = 'Jablonec' then -0.041278776042565773\n",
      " when TRIM(CAST(team as varchar(999))) = 'Hradec Králové' then -0.2877983396251753\n",
      " when TRIM(CAST(team as varchar(999))) = 'Baník Ostrava' then 0.0 else 0.0 end\n",
      " + case  when TRIM(CAST(hga as varchar(999))) = 'H' then penalty * 0.45\n",
      " when TRIM(CAST(hga as varchar(999))) = 'A' then penalty * 0.243900495630906 else 0.0 end\n",
      "\n"
     ]
    }
   ],
   "source": [
    "# Generate the SQL code for the model (microsoft SQL Server flavor)\n",
    "print(scoring_table.sql(format=True))"
   ]
  },
  {
   "cell_type": "markdown",
   "metadata": {},
   "source": [
    "## Verifying the model\n",
    "For quick verification of the model, one can use the `group_over_columns` function, which goes over the specified columns and applies the specified grouping dictionary. This is built on top of the pandas `groupby` function."
   ]
  },
  {
   "cell_type": "code",
   "execution_count": 23,
   "metadata": {},
   "outputs": [],
   "source": [
    "# Evaluate the model. Note you can evaluate any combination of variables.\n",
    "vars2eval = [\"team\", \"hga\", \"penalty\", \"fouls_opp_cat2\", [\"hga\", \"penalty\"]]\n",
    "evaluation_train = stepsel.tools.group_over_columns(dt.loc[train_filter,], vars2eval, {\"goals\": \"mean\", \"preds\": \"mean\" })\n",
    "evaluation_test = stepsel.tools.group_over_columns(dt.loc[~train_filter,:], vars2eval, {\"goals\": \"mean\", \"preds\": \"mean\"})"
   ]
  },
  {
   "cell_type": "code",
   "execution_count": 24,
   "metadata": {},
   "outputs": [
    {
     "name": "stdout",
     "output_type": "stream",
     "text": [
      "        variable_1           level_1 variable_2  level_2     goals     preds\n",
      "0             team         Bohemians        NaN      NaN  1.640000  1.636806\n",
      "1             team          Jablonec        NaN      NaN  1.520000  1.520000\n",
      "2             team          Slovácko        NaN      NaN  1.160000  1.160000\n",
      "3             team    Hradec Králové        NaN      NaN  1.160000  1.160000\n",
      "4             team      Sparta Praha        NaN      NaN  2.560000  2.560000\n",
      "5             team           Teplice        NaN      NaN  1.320000  1.320000\n",
      "6             team     Sigma Olomouc        NaN      NaN  1.640000  1.640000\n",
      "7             team      Slavia Praha        NaN      NaN  2.560000  2.560000\n",
      "8             team  České Budějovice        NaN      NaN  1.240000  1.240000\n",
      "9             team    Zbrojovka Brno        NaN      NaN  1.080000  1.080000\n",
      "10            team              Zlín        NaN      NaN  1.291667  1.291667\n",
      "11            team    Mladá Boleslav        NaN      NaN  1.160000  1.160000\n",
      "12            team    Viktoria Plzeň        NaN      NaN  1.807692  1.807692\n",
      "13            team     Baník Ostrava        NaN      NaN  1.560000  1.563194\n",
      "14            team    Slovan Liberec        NaN      NaN  1.320000  1.320000\n",
      "15            team         Pardubice        NaN      NaN  1.080000  1.080000\n",
      "16             hga                 H        NaN      NaN  1.755000  1.542806\n",
      "17             hga                 A        NaN      NaN  1.260000  1.472194\n",
      "18         penalty               0.0        NaN      NaN  1.380403  1.387885\n",
      "19         penalty               1.0        NaN      NaN  2.361702  2.193053\n",
      "20         penalty               2.0        NaN      NaN  2.166667  3.055077\n",
      "21  fouls_opp_cat2      (-Inf, 16.5]        NaN      NaN  1.567251  1.512505\n",
      "22  fouls_opp_cat2       (16.5, Inf)        NaN      NaN  1.155172  1.477987\n",
      "23             hga                 H    penalty      0.0  1.641618  1.404335\n",
      "24             hga                 H    penalty      1.0  2.600000  2.379531\n",
      "25             hga                 H    penalty      2.0  1.000000  3.061540\n",
      "26             hga                 A    penalty      0.0  1.120690  1.371529\n",
      "27             hga                 A    penalty      1.0  2.090909  1.981147\n",
      "28             hga                 A    penalty      2.0  2.750000  3.051845\n",
      "\n",
      "        variable_1           level_1 variable_2  level_2     goals     preds\n",
      "0             team         Bohemians        NaN      NaN  1.625000  1.635771\n",
      "1             team          Jablonec        NaN      NaN  1.428571  1.535011\n",
      "2             team          Slovácko        NaN      NaN  1.375000  1.201807\n",
      "3             team    Hradec Králové        NaN      NaN  1.000000  1.109554\n",
      "4             team      Sparta Praha        NaN      NaN  1.500000  2.544079\n",
      "5             team           Teplice        NaN      NaN  1.142857  1.282971\n",
      "6             team     Sigma Olomouc        NaN      NaN  1.125000  1.645341\n",
      "7             team      Slavia Praha        NaN      NaN  3.375000  2.449881\n",
      "8             team  České Budějovice        NaN      NaN  1.000000  1.199480\n",
      "9             team    Zbrojovka Brno        NaN      NaN  1.857143  1.049731\n",
      "10            team              Zlín        NaN      NaN  1.000000  1.233260\n",
      "11            team    Mladá Boleslav        NaN      NaN  1.428571  1.363987\n",
      "12            team    Viktoria Plzeň        NaN      NaN  1.714286  1.714525\n",
      "13            team     Baník Ostrava        NaN      NaN  1.285714  1.479578\n",
      "14            team    Slovan Liberec        NaN      NaN  1.714286  1.250144\n",
      "15            team         Pardubice        NaN      NaN  0.571429  1.055995\n",
      "16             hga                 H        NaN      NaN  1.440678  1.545113\n",
      "17             hga                 A        NaN      NaN  1.474576  1.454344\n",
      "18         penalty               0.0        NaN      NaN  1.428571  1.411392\n",
      "19         penalty               1.0        NaN      NaN  1.692308  2.213212\n",
      "20  fouls_opp_cat2      (-Inf, 16.5]        NaN      NaN  1.500000  1.513460\n",
      "21  fouls_opp_cat2       (16.5, Inf)        NaN      NaN  1.142857  1.397720\n",
      "22             hga                 H    penalty      0.0  1.440000  1.400752\n",
      "23             hga                 H    penalty      1.0  1.444444  2.347115\n",
      "24             hga                 A    penalty      0.0  1.418182  1.421065\n",
      "25             hga                 A    penalty      1.0  2.250000  1.911932\n"
     ]
    }
   ],
   "source": [
    "# One can see that rather simple descriptive model fits the data reasonably well, even though it was constructed only to demonstrate the package.\n",
    "# The biggest discrepancy is in matches with penalty, and for the teams of Slavia Praha and Sparta Praha. This has its reasons,\n",
    "# and Czech football fans will have their own opinions on that.\n",
    "print(evaluation_train, evaluation_test, sep=\"\\n\\n\")"
   ]
  },
  {
   "cell_type": "code",
   "execution_count": null,
   "metadata": {},
   "outputs": [],
   "source": []
  }
 ],
 "metadata": {
  "kernelspec": {
   "display_name": "stepsel-py312",
   "language": "python",
   "name": "stepsel-py312"
  },
  "language_info": {
   "codemirror_mode": {
    "name": "ipython",
    "version": 3
   },
   "file_extension": ".py",
   "mimetype": "text/x-python",
   "name": "python",
   "nbconvert_exporter": "python",
   "pygments_lexer": "ipython3",
   "version": "3.12.4"
  }
 },
 "nbformat": 4,
 "nbformat_minor": 4
}
